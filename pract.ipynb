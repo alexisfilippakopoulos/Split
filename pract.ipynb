{
 "cells": [
  {
   "cell_type": "code",
   "execution_count": 1,
   "metadata": {},
   "outputs": [],
   "source": [
    "from torch import nn, flatten, randn"
   ]
  },
  {
   "cell_type": "code",
   "execution_count": 7,
   "metadata": {},
   "outputs": [],
   "source": [
    "class AlexNet(nn.Module):\n",
    "  def __init__(self):\n",
    "    super().__init__()\n",
    "    self.conv1 = nn.Conv2d(3, 64, kernel_size=(11, 11), stride=(4, 4), padding=(2, 2))\n",
    "    self.maxpool = nn.MaxPool2d(kernel_size=3, stride=2, padding=0, dilation=1, ceil_mode=False)\n",
    "    self.conv2 = nn.Conv2d(64, 192, kernel_size=(5, 5), stride=(1, 1), padding=(2, 2))\n",
    "    self.conv3 = nn.Conv2d(192, 384, kernel_size=(3, 3), stride=(1, 1), padding=(1, 1))\n",
    "    self.conv4 = nn.Conv2d(384, 256, kernel_size=(3, 3), stride=(1, 1), padding=(1, 1))\n",
    "    self.conv5 = nn.Conv2d(256, 256, kernel_size=(3, 3), stride=(1, 1), padding=(1, 1))\n",
    "\n",
    "    self.fc1 = nn.Linear(in_features=9216, out_features=4096, bias=True)\n",
    "    self.fc2 = nn.Linear(in_features=4096, out_features=4096, bias=True)\n",
    "    self.fc3 = nn.Linear(in_features=4096, out_features=10, bias=True)\n",
    "    \n",
    "    self.relu = nn.ReLU(inplace=True)\n",
    "    self.dropout = nn.Dropout(p=0.5, inplace=False)\n",
    "\n",
    "  def forward(self, x):\n",
    "    x = self.maxpool(self.relu(self.conv1(x)))\n",
    "    x = self.maxpool(self.relu(self.conv2(x)))\n",
    "    x = self.relu(self.conv3(x))\n",
    "    x = self.relu(self.conv4(x))\n",
    "    x = self.maxpool(self.relu(self.conv5(x)))\n",
    "    x = self.dropout(self.relu(self.fc1(flatten(x))))\n",
    "    print(x.shape)\n",
    "    x = self.dropout(self.relu(self.fc2(x)))\n",
    "    x = self.fc3(x)\n",
    "    return x"
   ]
  },
  {
   "cell_type": "code",
   "execution_count": null,
   "metadata": {},
   "outputs": [],
   "source": [
    "class AlexNetStrong(nn.Module):\n",
    "  def __init__(self):\n",
    "    super().__init__()\n",
    "    self.conv1 = nn.Conv2d(3, 64, kernel_size=(11, 11), stride=(4, 4), padding=(2, 2))\n",
    "    self.maxpool = nn.MaxPool2d(kernel_size=3, stride=2, padding=0, dilation=1, ceil_mode=False)\n",
    "    self.conv2 = nn.Conv2d(64, 192, kernel_size=(5, 5), stride=(1, 1), padding=(2, 2))\n",
    "    self.conv3 = nn.Conv2d(192, 384, kernel_size=(3, 3), stride=(1, 1), padding=(1, 1))\n",
    "    self.conv4 = nn.Conv2d(384, 256, kernel_size=(3, 3), stride=(1, 1), padding=(1, 1))\n",
    "    self.conv5 = nn.Conv2d(256, 256, kernel_size=(3, 3), stride=(1, 1), padding=(1, 1))\n",
    "\n",
    "    self.fc1 = nn.Linear(in_features=9216, out_features=4096, bias=True)\n",
    "    self.fc2 = nn.Linear(in_features=4096, out_features=4096, bias=True)\n",
    "    self.fc3 = nn.Linear(in_features=4096, out_features=10, bias=True)\n",
    "    \n",
    "    self.relu = nn.ReLU(inplace=True)\n",
    "    self.dropout = nn.Dropout(p=0.5, inplace=False)\n",
    "\n",
    "  def forward(self, x):\n",
    "    x = self.maxpool(self.relu(self.conv1(x)))\n",
    "    x = self.maxpool(self.relu(self.conv2(x)))\n",
    "    x = self.relu(self.conv3(x))\n",
    "    x = self.relu(self.conv4(x))\n",
    "    x = self.maxpool(self.relu(self.conv5(x)))\n",
    "    x = self.dropout(self.relu(self.fc1(flatten(x))))\n",
    "    x = self.dropout(self.relu(self.fc2(x)))\n",
    "    x = self.fc3(x)\n",
    "    return x\n",
    "\n",
    "\n",
    "class AlexNetW(nn.Module):\n",
    "  def __init__(self):\n",
    "    super().__init__()\n",
    "    self.conv1 = nn.Conv2d(3, 64, kernel_size=(11, 11), stride=(4, 4), padding=(2, 2))\n",
    "    self.maxpool = nn.MaxPool2d(kernel_size=3, stride=2, padding=0, dilation=1, ceil_mode=False)\n",
    "    self.conv2 = nn.Conv2d(64, 192, kernel_size=(5, 5), stride=(1, 1), padding=(2, 2))\n",
    "    self.conv3 = nn.Conv2d(192, 384, kernel_size=(3, 3), stride=(1, 1), padding=(1, 1))\n",
    "    self.conv4 = nn.Conv2d(384, 256, kernel_size=(3, 3), stride=(1, 1), padding=(1, 1))\n",
    "    self.conv5 = nn.Conv2d(256, 256, kernel_size=(3, 3), stride=(1, 1), padding=(1, 1))\n",
    "\n",
    "    self.fc1 = nn.Linear(in_features=9216, out_features=4096, bias=True)\n",
    "    self.fc2 = nn.Linear(in_features=4096, out_features=4096, bias=True)\n",
    "    self.fc3 = nn.Linear(in_features=4096, out_features=10, bias=True)\n",
    "    \n",
    "    self.relu = nn.ReLU(inplace=True)\n",
    "    self.dropout = nn.Dropout(p=0.5, inplace=False)\n",
    "\n",
    "  def forward(self, x):\n",
    "    x = self.maxpool(self.relu(self.conv1(x)))\n",
    "    x = self.maxpool(self.relu(self.conv2(x)))\n",
    "    x = self.relu(self.conv3(x))\n",
    "    x = self.relu(self.conv4(x))\n",
    "    x = self.maxpool(self.relu(self.conv5(x)))\n",
    "    x = self.dropout(self.relu(self.fc1(flatten(x))))\n",
    "    x = self.dropout(self.relu(self.fc2(x)))\n",
    "    x = self.fc3(x)\n",
    "    return x"
   ]
  },
  {
   "cell_type": "code",
   "execution_count": 8,
   "metadata": {},
   "outputs": [],
   "source": [
    "model = AlexNet()"
   ]
  },
  {
   "cell_type": "code",
   "execution_count": 13,
   "metadata": {},
   "outputs": [
    {
     "data": {
      "text/plain": [
       "torch.Size([256, 6, 6])"
      ]
     },
     "execution_count": 13,
     "metadata": {},
     "output_type": "execute_result"
    }
   ],
   "source": [
    "inp = randn(256, 6, 6)\n",
    "inp.shape"
   ]
  },
  {
   "cell_type": "code",
   "execution_count": 14,
   "metadata": {},
   "outputs": [
    {
     "data": {
      "text/plain": [
       "torch.Size([9216])"
      ]
     },
     "execution_count": 14,
     "metadata": {},
     "output_type": "execute_result"
    }
   ],
   "source": [
    "flatten(inp).shape"
   ]
  },
  {
   "cell_type": "code",
   "execution_count": 10,
   "metadata": {},
   "outputs": [
    {
     "name": "stdout",
     "output_type": "stream",
     "text": [
      "torch.Size([256, 6, 6])\n"
     ]
    },
    {
     "data": {
      "text/plain": [
       "tensor([ 0.0006,  0.0121,  0.0182,  0.0167, -0.0044, -0.0220, -0.0064, -0.0253,\n",
       "         0.0223, -0.0242], grad_fn=<ViewBackward0>)"
      ]
     },
     "execution_count": 10,
     "metadata": {},
     "output_type": "execute_result"
    }
   ],
   "source": [
    "model(inp)"
   ]
  },
  {
   "cell_type": "code",
   "execution_count": 11,
   "metadata": {},
   "outputs": [
    {
     "data": {
      "text/plain": [
       "9216"
      ]
     },
     "execution_count": 11,
     "metadata": {},
     "output_type": "execute_result"
    }
   ],
   "source": [
    "256 * 6 * 6"
   ]
  },
  {
   "cell_type": "code",
   "execution_count": null,
   "metadata": {},
   "outputs": [],
   "source": []
  }
 ],
 "metadata": {
  "kernelspec": {
   "display_name": "split_env",
   "language": "python",
   "name": "python3"
  },
  "language_info": {
   "codemirror_mode": {
    "name": "ipython",
    "version": 3
   },
   "file_extension": ".py",
   "mimetype": "text/x-python",
   "name": "python",
   "nbconvert_exporter": "python",
   "pygments_lexer": "ipython3",
   "version": "3.9.19"
  }
 },
 "nbformat": 4,
 "nbformat_minor": 2
}
