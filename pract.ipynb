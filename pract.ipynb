{
 "cells": [
  {
   "cell_type": "code",
   "execution_count": 1,
   "metadata": {},
   "outputs": [],
   "source": [
    "from torch import nn, flatten, randn"
   ]
  },
  {
   "cell_type": "code",
   "execution_count": 7,
   "metadata": {},
   "outputs": [],
   "source": [
    "class AlexNet(nn.Module):\n",
    "  def __init__(self):\n",
    "    super().__init__()\n",
    "    self.conv1 = nn.Conv2d(3, 64, kernel_size=(11, 11), stride=(4, 4), padding=(2, 2))\n",
    "    self.maxpool = nn.MaxPool2d(kernel_size=3, stride=2, padding=0, dilation=1, ceil_mode=False)\n",
    "    self.conv2 = nn.Conv2d(64, 192, kernel_size=(5, 5), stride=(1, 1), padding=(2, 2))\n",
    "    self.conv3 = nn.Conv2d(192, 384, kernel_size=(3, 3), stride=(1, 1), padding=(1, 1))\n",
    "    self.conv4 = nn.Conv2d(384, 256, kernel_size=(3, 3), stride=(1, 1), padding=(1, 1))\n",
    "    self.conv5 = nn.Conv2d(256, 256, kernel_size=(3, 3), stride=(1, 1), padding=(1, 1))\n",
    "\n",
    "    self.fc1 = nn.Linear(in_features=9216, out_features=4096, bias=True)\n",
    "    self.fc2 = nn.Linear(in_features=4096, out_features=4096, bias=True)\n",
    "    self.fc3 = nn.Linear(in_features=4096, out_features=10, bias=True)\n",
    "    \n",
    "    self.relu = nn.ReLU(inplace=True)\n",
    "    self.dropout = nn.Dropout(p=0.5, inplace=False)\n",
    "\n",
    "  def forward(self, x):\n",
    "    x = self.maxpool(self.relu(self.conv1(x)))\n",
    "    x = self.maxpool(self.relu(self.conv2(x)))\n",
    "    x = self.relu(self.conv3(x))\n",
    "    x = self.relu(self.conv4(x))\n",
    "    x = self.maxpool(self.relu(self.conv5(x)))\n",
    "    x = self.dropout(self.relu(self.fc1(flatten(x))))\n",
    "    print(x.shape)\n",
    "    x = self.dropout(self.relu(self.fc2(x)))\n",
    "    x = self.fc3(x)\n",
    "    return x"
   ]
  },
  {
   "cell_type": "code",
   "execution_count": 30,
   "metadata": {},
   "outputs": [],
   "source": [
    "class AlexNetStrongClientModel(nn.Module):\n",
    "  def __init__(self):\n",
    "    super().__init__()\n",
    "    self.conv1 = nn.Conv2d(3, 64, kernel_size=(11, 11), stride=(4, 4), padding=(2, 2))\n",
    "    self.conv2 = nn.Conv2d(64, 192, kernel_size=(5, 5), stride=(1, 1), padding=(2, 2))\n",
    "    self.conv3 = nn.Conv2d(192, 384, kernel_size=(3, 3), stride=(1, 1), padding=(1, 1))\n",
    "    self.conv4 = nn.Conv2d(384, 256, kernel_size=(3, 3), stride=(1, 1), padding=(1, 1))\n",
    "    self.conv5 = nn.Conv2d(256, 256, kernel_size=(3, 3), stride=(1, 1), padding=(1, 1))\n",
    "\n",
    "    self.fc = nn.Linear(in_features=256*6*6, out_features=10)\n",
    "\n",
    "    self.maxpool = nn.MaxPool2d(kernel_size=3, stride=2, padding=0, dilation=1, ceil_mode=False)\n",
    "    self.relu = nn.ReLU(inplace=True)\n",
    "\n",
    "  def forward(self, x):\n",
    "    x = self.maxpool(self.relu(self.conv1(x)))\n",
    "    x = self.maxpool(self.relu(self.conv2(x)))\n",
    "    x = self.relu(self.conv3(x))\n",
    "    x = self.relu(self.conv4(x))\n",
    "    x_off = self.maxpool(self.relu(self.conv5(x)))\n",
    "    x = self.fc(flatten(x_off))\n",
    "    return x, x_off\n",
    "\n",
    "class AlexNetWeakClientModel(nn.Module):\n",
    "  def __init__(self):\n",
    "    super().__init__()\n",
    "    self.conv1 = nn.Conv2d(3, 64, kernel_size=(11, 11), stride=(4, 4), padding=(2, 2))\n",
    "    self.conv2 = nn.Conv2d(64, 192, kernel_size=(5, 5), stride=(1, 1), padding=(2, 2))\n",
    "\n",
    "    self.maxpool = nn.MaxPool2d(kernel_size=3, stride=2, padding=0, dilation=1, ceil_mode=False)\n",
    "    self.relu = nn.ReLU(inplace=True)\n",
    "\n",
    "  def forward(self, x):\n",
    "    x = self.maxpool(self.relu(self.conv1(x)))\n",
    "    x = self.maxpool(self.relu(self.conv2(x)))\n",
    "    return x\n",
    "  \n",
    "class AlexNetWeakClientOffloadedModel(nn.Module):\n",
    "  def __init__(self):\n",
    "    super().__init__()\n",
    "    self.conv3 = nn.Conv2d(192, 384, kernel_size=(3, 3), stride=(1, 1), padding=(1, 1))\n",
    "    self.conv4 = nn.Conv2d(384, 256, kernel_size=(3, 3), stride=(1, 1), padding=(1, 1))\n",
    "    self.conv5 = nn.Conv2d(256, 256, kernel_size=(3, 3), stride=(1, 1), padding=(1, 1))\n",
    "\n",
    "    self.fc = nn.Linear(in_features=256*6*6, out_features=10)\n",
    "    self.maxpool = nn.MaxPool2d(kernel_size=3, stride=2, padding=0, dilation=1, ceil_mode=False)\n",
    "    self.relu = nn.ReLU(inplace=True)\n",
    "\n",
    "  def forward(self, x):\n",
    "    x = self.relu(self.conv3(x))\n",
    "    x = self.relu(self.conv4(x))\n",
    "    x_off = self.maxpool(self.relu(self.conv5(x)))\n",
    "    x = self.fc(flatten(x_off))\n",
    "    return x, x_off\n",
    "  \n",
    "class AlexNetServer(nn.Module):\n",
    "  def __init__(self) -> None:\n",
    "    super().__init__()\n",
    "    self.fc1 = nn.Linear(in_features=9216, out_features=4096, bias=True)\n",
    "    self.fc2 = nn.Linear(in_features=4096, out_features=4096, bias=True)\n",
    "    self.fc3 = nn.Linear(in_features=4096, out_features=10, bias=True)\n",
    "    self.dropout = nn.Dropout(p=0.5, inplace=False)\n",
    "    self.relu = nn.ReLU(inplace=True)\n",
    "\n",
    "  def forward(self, x):\n",
    "    x = self.dropout(self.relu(self.fc1(flatten(x))))\n",
    "    x = self.dropout(self.relu(self.fc2(x)))\n",
    "    x = self.fc3(x)\n",
    "    return x"
   ]
  },
  {
   "cell_type": "code",
   "execution_count": 31,
   "metadata": {},
   "outputs": [],
   "source": [
    "strong = AlexNetStrongClientModel()\n",
    "weak = AlexNetWeakClientModel()\n",
    "weak_off = AlexNetWeakClientOffloadedModel()\n",
    "server = AlexNetServer()"
   ]
  },
  {
   "cell_type": "code",
   "execution_count": 32,
   "metadata": {},
   "outputs": [
    {
     "data": {
      "text/plain": [
       "torch.Size([3, 224, 224])"
      ]
     },
     "execution_count": 32,
     "metadata": {},
     "output_type": "execute_result"
    }
   ],
   "source": [
    "inp = randn(3, 224, 224)\n",
    "inp.shape"
   ]
  },
  {
   "cell_type": "code",
   "execution_count": 33,
   "metadata": {},
   "outputs": [
    {
     "data": {
      "text/plain": [
       "(torch.Size([10]), torch.Size([256, 6, 6]))"
      ]
     },
     "execution_count": 33,
     "metadata": {},
     "output_type": "execute_result"
    }
   ],
   "source": [
    "x, x_off = strong(inp)\n",
    "x.shape, x_off.shape"
   ]
  },
  {
   "cell_type": "code",
   "execution_count": 35,
   "metadata": {},
   "outputs": [
    {
     "data": {
      "text/plain": [
       "tensor([-0.0039, -0.0044, -0.0248,  0.0220, -0.0209, -0.0154,  0.0088, -0.0101,\n",
       "        -0.0126,  0.0175], grad_fn=<ViewBackward0>)"
      ]
     },
     "execution_count": 35,
     "metadata": {},
     "output_type": "execute_result"
    }
   ],
   "source": [
    "server(x_off)"
   ]
  },
  {
   "cell_type": "code",
   "execution_count": 36,
   "metadata": {},
   "outputs": [
    {
     "data": {
      "text/plain": [
       "(torch.Size([10]), torch.Size([256, 6, 6]))"
      ]
     },
     "execution_count": 36,
     "metadata": {},
     "output_type": "execute_result"
    }
   ],
   "source": [
    "x, x_off = weak_off(weak(inp))\n",
    "x.shape, x_off.shape"
   ]
  },
  {
   "cell_type": "code",
   "execution_count": 37,
   "metadata": {},
   "outputs": [
    {
     "data": {
      "text/plain": [
       "tensor([ 0.0002, -0.0233, -0.0044,  0.0137, -0.0218, -0.0164,  0.0094,  0.0106,\n",
       "         0.0017,  0.0240], grad_fn=<ViewBackward0>)"
      ]
     },
     "execution_count": 37,
     "metadata": {},
     "output_type": "execute_result"
    }
   ],
   "source": [
    "server(x_off)"
   ]
  }
 ],
 "metadata": {
  "kernelspec": {
   "display_name": "split_env",
   "language": "python",
   "name": "python3"
  },
  "language_info": {
   "codemirror_mode": {
    "name": "ipython",
    "version": 3
   },
   "file_extension": ".py",
   "mimetype": "text/x-python",
   "name": "python",
   "nbconvert_exporter": "python",
   "pygments_lexer": "ipython3",
   "version": "3.9.19"
  }
 },
 "nbformat": 4,
 "nbformat_minor": 2
}
